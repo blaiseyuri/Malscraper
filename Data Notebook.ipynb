{
 "cells": [
  {
   "cell_type": "code",
   "execution_count": 30,
   "metadata": {
    "collapsed": false
   },
   "outputs": [],
   "source": [
    "import pandas as pd\n",
    "import os.path"
   ]
  },
  {
   "cell_type": "code",
   "execution_count": 31,
   "metadata": {
    "collapsed": false
   },
   "outputs": [
    {
     "name": "stdout",
     "output_type": "stream",
     "text": [
      "C:\\Users\\2015\\Development\\Malscraper\\logs\\Manga\\Mangalist.csv\n"
     ]
    }
   ],
   "source": [
    "yourpath = 'logs/Manga/Mangalist.csv'\n",
    "path = os.path.abspath(os.path.join(yourpath, os.pardir)) + \"\\Mangalist.csv\"\n",
    "print path\n",
    "df = pd.read_csv(path)"
   ]
  },
  {
   "cell_type": "code",
   "execution_count": 32,
   "metadata": {
    "collapsed": false
   },
   "outputs": [],
   "source": [
    "df = df.sort('name')\n",
    "df.link = \"http://\"+df.link"
   ]
  },
  {
   "cell_type": "code",
   "execution_count": 33,
   "metadata": {
    "collapsed": false
   },
   "outputs": [
    {
     "data": {
      "text/plain": [
       "728       http://myanimelist.net/manga/1025/-6mm_no_Taboo\n",
       "854             http://myanimelist.net/manga/66527/-Crow-\n",
       "856             http://myanimelist.net/manga/20810/-HOME-\n",
       "855       http://myanimelist.net/manga/17931/-Hitogatana-\n",
       "858             http://myanimelist.net/manga/28208/-SINS-\n",
       "857              http://myanimelist.net/manga/9740/-rain-\n",
       "859     http://myanimelist.net/manga/1144/...Curtain.:...\n",
       "994     http://myanimelist.net/manga/7886/...Seishunchuu!\n",
       "995          http://myanimelist.net/manga/72529/...Yatte!\n",
       "993          http://myanimelist.net/manga/1145/...no_Onna\n",
       "996      http://myanimelist.net/manga/10661/.hack__4-koma\n",
       "1102    http://myanimelist.net/manga/955/.hack__AI_Buster\n",
       "1103    http://myanimelist.net/manga/1819/.hack__Alcor...\n",
       "1104    http://myanimelist.net/manga/1355/.hack__Anoth...\n",
       "1105     http://myanimelist.net/manga/40293/.hack__Bullet\n",
       "...\n",
       "11007      http://myanimelist.net/manga/85301/âˆšChuugakusei\n",
       "11008         http://myanimelist.net/manga/15304/âˆšParadise\n",
       "11009              http://myanimelist.net/manga/59/âˆšW.P.B.\n",
       "22631                 http://myanimelist.net/manga/24444/â‰ \n",
       "11201    http://myanimelist.net/manga/8092/â—‹_Hon_no_Juunin\n",
       "22414    http://myanimelist.net/manga/84739/â—‹Ã—â–³_Base:_N...\n",
       "22415          http://myanimelist.net/manga/72699/â—‹â—‹_Gokko\n",
       "22627    http://myanimelist.net/manga/30965/â—‹â—‹_se_yo!!_...\n",
       "11199              http://myanimelist.net/manga/74071/â—�REC\n",
       "11200    http://myanimelist.net/manga/38761/â—¯â—¯_no_Omoch...\n",
       "11010    http://myanimelist.net/manga/83793/â˜…â˜…â˜…_no_Spec...\n",
       "22853             http://myanimelist.net/manga/18966/â™€xâ™€=â™¥\n",
       "22851          http://myanimelist.net/manga/24252/â™‚Docchiâ™€\n",
       "22852    http://myanimelist.net/manga/82181/â™‚xâ™‚_Renai_S...\n",
       "22850               http://myanimelist.net/manga/5736/â™­37â„ƒ\n",
       "Name: link, Length: 35838, dtype: object"
      ]
     },
     "execution_count": 33,
     "metadata": {},
     "output_type": "execute_result"
    }
   ],
   "source": [
    "df.link"
   ]
  }
 ],
 "metadata": {
  "kernelspec": {
   "display_name": "Python 2",
   "language": "python",
   "name": "python2"
  },
  "language_info": {
   "codemirror_mode": {
    "name": "ipython",
    "version": 2
   },
   "file_extension": ".py",
   "mimetype": "text/x-python",
   "name": "python",
   "nbconvert_exporter": "python",
   "pygments_lexer": "ipython2",
   "version": "2.7.9"
  }
 },
 "nbformat": 4,
 "nbformat_minor": 0
}
